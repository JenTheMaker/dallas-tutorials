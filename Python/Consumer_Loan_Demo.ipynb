{
 "cells": [
  {
   "cell_type": "code",
   "execution_count": 1,
   "metadata": {
    "collapsed": true
   },
   "outputs": [],
   "source": [
    "# Import necessary packages\n",
    "import h2o\n",
    "from h2o.estimators.gbm import H2OGradientBoostingEstimator\n",
    "from h2o.estimators.glm import H2OGeneralizedLinearEstimator"
   ]
  },
  {
   "cell_type": "code",
   "execution_count": 2,
   "metadata": {
    "collapsed": false
   },
   "outputs": [
    {
     "name": "stdout",
     "output_type": "stream",
     "text": [
      "Checking whether there is an H2O instance running at http://localhost:54321..... not found.\n",
      "Attempting to start a local H2O server...\n",
      "  Java Version: java version \"1.7.0_80\"; Java(TM) SE Runtime Environment (build 1.7.0_80-b15); Java HotSpot(TM) 64-Bit Server VM (build 24.80-b11, mixed mode)\n",
      "  Starting server from /Users/megankurka/anaconda/h2o_jar/h2o.jar\n",
      "  Ice root: /var/folders/gv/w2f3zs_d33l3dt5j67k9nhhr0000gn/T/tmp_Iw6Iq\n",
      "  JVM stdout: /var/folders/gv/w2f3zs_d33l3dt5j67k9nhhr0000gn/T/tmp_Iw6Iq/h2o_megankurka_started_from_python.out\n",
      "  JVM stderr: /var/folders/gv/w2f3zs_d33l3dt5j67k9nhhr0000gn/T/tmp_Iw6Iq/h2o_megankurka_started_from_python.err\n",
      "  Server is running at http://127.0.0.1:54321\n",
      "Connecting to H2O server at http://127.0.0.1:54321... successful.\n"
     ]
    },
    {
     "data": {
      "text/html": [
       "<div style=\"overflow:auto\"><table style=\"width:50%\"><tr><td>H2O cluster uptime:</td>\n",
       "<td>03 secs</td></tr>\n",
       "<tr><td>H2O cluster version:</td>\n",
       "<td>3.10.0.8</td></tr>\n",
       "<tr><td>H2O cluster version age:</td>\n",
       "<td>15 days </td></tr>\n",
       "<tr><td>H2O cluster name:</td>\n",
       "<td>H2O_from_python_megankurka_izi2jf</td></tr>\n",
       "<tr><td>H2O cluster total nodes:</td>\n",
       "<td>1</td></tr>\n",
       "<tr><td>H2O cluster free memory:</td>\n",
       "<td>3.556 Gb</td></tr>\n",
       "<tr><td>H2O cluster total cores:</td>\n",
       "<td>8</td></tr>\n",
       "<tr><td>H2O cluster allowed cores:</td>\n",
       "<td>8</td></tr>\n",
       "<tr><td>H2O cluster status:</td>\n",
       "<td>accepting new members, healthy</td></tr>\n",
       "<tr><td>H2O connection url:</td>\n",
       "<td>http://127.0.0.1:54321</td></tr>\n",
       "<tr><td>H2O connection proxy:</td>\n",
       "<td>None</td></tr>\n",
       "<tr><td>Python version:</td>\n",
       "<td>2.7.12 final</td></tr></table></div>"
      ],
      "text/plain": [
       "--------------------------  ---------------------------------\n",
       "H2O cluster uptime:         03 secs\n",
       "H2O cluster version:        3.10.0.8\n",
       "H2O cluster version age:    15 days\n",
       "H2O cluster name:           H2O_from_python_megankurka_izi2jf\n",
       "H2O cluster total nodes:    1\n",
       "H2O cluster free memory:    3.556 Gb\n",
       "H2O cluster total cores:    8\n",
       "H2O cluster allowed cores:  8\n",
       "H2O cluster status:         accepting new members, healthy\n",
       "H2O connection url:         http://127.0.0.1:54321\n",
       "H2O connection proxy:\n",
       "Python version:             2.7.12 final\n",
       "--------------------------  ---------------------------------"
      ]
     },
     "metadata": {},
     "output_type": "display_data"
    }
   ],
   "source": [
    "# Initialize instance of H2O\n",
    "h2o.init(nthreads = -1)"
   ]
  },
  {
   "cell_type": "code",
   "execution_count": null,
   "metadata": {
    "collapsed": false
   },
   "outputs": [],
   "source": [
    "#Set file path\n",
    "path = \"/Volumes/H2OTour/Datasets/LoanStats/\""
   ]
  },
  {
   "cell_type": "code",
   "execution_count": 4,
   "metadata": {
    "collapsed": true
   },
   "outputs": [],
   "source": [
    "#Parse with user imposed schema which changes the column types;\n",
    "#Change the column types in the parse setup\n",
    "#Change \"int_rate,\" \"revol_util,\" \"emp_length,\" \"verification_status\" to String instead of Enum\n",
    "col_types = {\"int_rate\": \"string\", \n",
    "             \"revol_util\":\"string\",\n",
    "             \"emp_length\":\"string\", \n",
    "             \"term\":\"string\",\n",
    "             \"mths_since_last_delinq\":\"numeric\",\n",
    "             \"mths_since_last_record\":\"numeric\", \n",
    "             \"mths_since_last_major_derog\":\"numeric\"}"
   ]
  },
  {
   "cell_type": "code",
   "execution_count": 5,
   "metadata": {
    "collapsed": false
   },
   "outputs": [
    {
     "name": "stdout",
     "output_type": "stream",
     "text": [
      "Parse progress: |█████████████████████████████████████████████████████████████████████████████| 100%\n"
     ]
    }
   ],
   "source": [
    "#Import data and set column types to those specified above\n",
    "loan_stats = h2o.import_file(path = path, col_types = col_types)"
   ]
  },
  {
   "cell_type": "code",
   "execution_count": 6,
   "metadata": {
    "collapsed": false,
    "scrolled": true
   },
   "outputs": [
    {
     "data": {
      "text/html": [
       "<table>\n",
       "<tr><th>loan_status                                             </th><th style=\"text-align: right;\">  Count</th></tr>\n",
       "<tr><td>Charged Off                                             </td><td style=\"text-align: right;\">  29077</td></tr>\n",
       "<tr><td>Current                                                 </td><td style=\"text-align: right;\"> 374294</td></tr>\n",
       "<tr><td>Default                                                 </td><td style=\"text-align: right;\">    178</td></tr>\n",
       "<tr><td>Does not meet the credit policy.  Status:Charged Off    </td><td style=\"text-align: right;\">    761</td></tr>\n",
       "<tr><td>Does not meet the credit policy.  Status:Current        </td><td style=\"text-align: right;\">     53</td></tr>\n",
       "<tr><td>Does not meet the credit policy.  Status:Fully Paid     </td><td style=\"text-align: right;\">   1933</td></tr>\n",
       "<tr><td>Does not meet the credit policy.  Status:In Grace Period</td><td style=\"text-align: right;\">      2</td></tr>\n",
       "<tr><td>Fully Paid                                              </td><td style=\"text-align: right;\"> 131983</td></tr>\n",
       "<tr><td>In Grace Period                                         </td><td style=\"text-align: right;\">   3972</td></tr>\n",
       "<tr><td>Late (16-30 days)                                       </td><td style=\"text-align: right;\">   1494</td></tr>\n",
       "</table>"
      ]
     },
     "metadata": {},
     "output_type": "display_data"
    },
    {
     "data": {
      "text/plain": []
     },
     "execution_count": 6,
     "metadata": {},
     "output_type": "execute_result"
    }
   ],
   "source": [
    "# Look at the levels int he response column, \"loan_status\"\n",
    "# Hint: Use .table() function on the response column\n",
    "loan_stats[\"loan_status\"].table()"
   ]
  },
  {
   "cell_type": "code",
   "execution_count": 7,
   "metadata": {
    "collapsed": false
   },
   "outputs": [],
   "source": [
    "# Drop all loans that are still in progess and therefore cannot be deemed good/bad loans\n",
    "# Hint: \"Current\", \"In Grace Period\", \"Late (16-30 days)\", \"Late (31-120 days)\" are ongoing loans\n",
    "loan_stats = loan_stats[~loan_stats[\"loan_status\"].isin([\"Current\", \"In Grace Period\", \"Late (16-30 days)\", \n",
    "                                                         \"Late (31-120 days)\"]), :]"
   ]
  },
  {
   "cell_type": "code",
   "execution_count": 8,
   "metadata": {
    "collapsed": true
   },
   "outputs": [],
   "source": [
    "# Bin the response variable to good/bad oans only, use your best judgement for what qualifies as a good/bad loan\n",
    "# Create a new column called \"bad_loan\" which should be a binary variable\n",
    "# Hint: You can turn the bad_loan columm into a factor using .asfactor()\n",
    "\n",
    "loan_stats[\"bad_loan\"] = ~(loan_stats[\"loan_status\"] == \"Fully Paid\")\n",
    "loan_stats[\"bad_loan\"] = loan_stats[\"bad_loan\"].asfactor()"
   ]
  },
  {
   "cell_type": "code",
   "execution_count": 9,
   "metadata": {
    "collapsed": false
   },
   "outputs": [
    {
     "data": {
      "text/html": [
       "<table>\n",
       "<tr><th style=\"text-align: right;\">  int_rate</th></tr>\n",
       "<tr><td style=\"text-align: right;\">     10.65</td></tr>\n",
       "<tr><td style=\"text-align: right;\">     15.27</td></tr>\n",
       "<tr><td style=\"text-align: right;\">     15.96</td></tr>\n",
       "<tr><td style=\"text-align: right;\">     13.49</td></tr>\n",
       "<tr><td style=\"text-align: right;\">      7.9 </td></tr>\n",
       "<tr><td style=\"text-align: right;\">     18.64</td></tr>\n",
       "<tr><td style=\"text-align: right;\">     21.28</td></tr>\n",
       "<tr><td style=\"text-align: right;\">     12.69</td></tr>\n",
       "<tr><td style=\"text-align: right;\">     14.65</td></tr>\n",
       "<tr><td style=\"text-align: right;\">     12.69</td></tr>\n",
       "</table>"
      ]
     },
     "metadata": {},
     "output_type": "display_data"
    }
   ],
   "source": [
    "## String munging to clean string columns before converting to numeric\n",
    "## Hint: Columns that need munging includes \"int_rate\", \"revol_util\", \"emp_length\", \"term\"\n",
    "\n",
    "## Example for int_rate using h2o.strsplit, trim, as.numeric\n",
    "loan_stats[\"int_rate\"] = loan_stats[\"int_rate\"].gsub(pattern = \"%\", replacement = \"\") # strip %\n",
    "loan_stats[ \"int_rate\"] = loan_stats[\"int_rate\"].trim() # trim ws\n",
    "loan_stats[\"int_rate\"] = loan_stats[\"int_rate\"].asnumeric() #change to a numeric \n",
    "loan_stats[\"int_rate\"].show()"
   ]
  },
  {
   "cell_type": "code",
   "execution_count": 10,
   "metadata": {
    "collapsed": false
   },
   "outputs": [
    {
     "data": {
      "text/html": [
       "<table>\n",
       "<tr><th style=\"text-align: right;\">  revol_util</th></tr>\n",
       "<tr><td style=\"text-align: right;\">       0.837</td></tr>\n",
       "<tr><td style=\"text-align: right;\">       0.094</td></tr>\n",
       "<tr><td style=\"text-align: right;\">       0.985</td></tr>\n",
       "<tr><td style=\"text-align: right;\">       0.21 </td></tr>\n",
       "<tr><td style=\"text-align: right;\">       0.283</td></tr>\n",
       "<tr><td style=\"text-align: right;\">       0.875</td></tr>\n",
       "<tr><td style=\"text-align: right;\">       0.326</td></tr>\n",
       "<tr><td style=\"text-align: right;\">       0.365</td></tr>\n",
       "<tr><td style=\"text-align: right;\">       0.206</td></tr>\n",
       "<tr><td style=\"text-align: right;\">       0.671</td></tr>\n",
       "</table>"
      ]
     },
     "metadata": {},
     "output_type": "display_data"
    }
   ],
   "source": [
    "# Now try for revol_util yourself\n",
    "loan_stats[\"revol_util\"] = loan_stats[\"revol_util\"].gsub(pattern = \"%\", replacement = \"\")\n",
    "loan_stats[\"revol_util\"] = loan_stats[\"revol_util\"].trim() \n",
    "loan_stats[\"revol_util\"] = loan_stats[\"revol_util\"].asnumeric()\n",
    "loan_stats[\"revol_util\"] = loan_stats[\"revol_util\"]/100\n",
    "loan_stats[\"revol_util\"].show()"
   ]
  },
  {
   "cell_type": "code",
   "execution_count": 11,
   "metadata": {
    "collapsed": false
   },
   "outputs": [
    {
     "data": {
      "text/html": [
       "<table>\n",
       "<tr><th style=\"text-align: right;\">  emp_length</th></tr>\n",
       "<tr><td style=\"text-align: right;\">          10</td></tr>\n",
       "<tr><td style=\"text-align: right;\">           0</td></tr>\n",
       "<tr><td style=\"text-align: right;\">          10</td></tr>\n",
       "<tr><td style=\"text-align: right;\">          10</td></tr>\n",
       "<tr><td style=\"text-align: right;\">           3</td></tr>\n",
       "<tr><td style=\"text-align: right;\">           9</td></tr>\n",
       "<tr><td style=\"text-align: right;\">           4</td></tr>\n",
       "<tr><td style=\"text-align: right;\">           0</td></tr>\n",
       "<tr><td style=\"text-align: right;\">           5</td></tr>\n",
       "<tr><td style=\"text-align: right;\">          10</td></tr>\n",
       "</table>"
      ]
     },
     "metadata": {},
     "output_type": "display_data"
    }
   ],
   "source": [
    "# Now we're going to clean up emp_length\n",
    "# Use gsub to remove \" year\" and \" years\" also translate n/a to \"\" \n",
    "loan_stats [\"emp_length\"] = loan_stats[\"emp_length\"].gsub(pattern = \"([ ]*+[a-zA-Z].*)|(n/a)\", \n",
    "                                              replacement = \"\")\n",
    "# Use trim to remove any trailing spaces \n",
    "loan_stats [\"emp_length\"] = loan_stats[\"emp_length\"].trim()\n",
    "# Use sub to convert < 1 to 0 years and do the same for 10 + to 10\n",
    "# Hint: Be mindful of spaces between characters\n",
    "loan_stats [\"emp_length\"] = loan_stats[\"emp_length\"].gsub(pattern = \"< 1\", replacement = \"0\")\n",
    "loan_stats [\"emp_length\"] = loan_stats[\"emp_length\"].gsub(pattern = \"10\\\\+\", replacement = \"10\")\n",
    "loan_stats [\"emp_length\"] = loan_stats[\"emp_length\"].asnumeric()\n",
    "loan_stats [\"emp_length\"].show()"
   ]
  },
  {
   "cell_type": "code",
   "execution_count": 12,
   "metadata": {
    "collapsed": true
   },
   "outputs": [],
   "source": [
    "# Convert the term column to a numeric from a string \n",
    "loan_stats[\"term\"] = loan_stats[\"term\"].gsub(pattern = \" months\", replacement = \"\")\n",
    "loan_stats[\"term\"] = loan_stats[\"term\"].trim()\n",
    "loan_stats[\"term\"] = loan_stats[\"term\"].asnumeric()"
   ]
  },
  {
   "cell_type": "code",
   "execution_count": 13,
   "metadata": {
    "collapsed": true
   },
   "outputs": [],
   "source": [
    "# Create a new column called \"credit_length_in_years\" by subtracting the values in \"earliest_cr_line\" from \"issue_d\"\n",
    "# Hint: Convert earliest_cr_line and issue_d using .year() function before completing calculation\n",
    "loan_stats[\"credit_length_in_years\"] = loan_stats[\"issue_d\"].year() - loan_stats[\"earliest_cr_line\"].year()"
   ]
  },
  {
   "cell_type": "code",
   "execution_count": 14,
   "metadata": {
    "collapsed": false
   },
   "outputs": [
    {
     "data": {
      "text/html": [
       "<table>\n",
       "<tr><th>verification_status  </th><th style=\"text-align: right;\">  Count</th></tr>\n",
       "<tr><td>verified             </td><td style=\"text-align: right;\"> 104841</td></tr>\n",
       "<tr><td>not verified         </td><td style=\"text-align: right;\">  59155</td></tr>\n",
       "</table>"
      ]
     },
     "metadata": {},
     "output_type": "display_data"
    },
    {
     "data": {
      "text/plain": []
     },
     "execution_count": 14,
     "metadata": {},
     "output_type": "execute_result"
    }
   ],
   "source": [
    "# Use the sub function to create two levels from the verification_status column. \n",
    "#Ie \"verified\" and \"not verified\"\n",
    "loan_stats[\"verification_status\"] = (loan_stats[\"verification_status\"] == \"not verified\").ifelse(\"not verified\", \n",
    "                                                                                              \"verified\")\n",
    "loan_stats[\"verification_status\"].table()"
   ]
  },
  {
   "cell_type": "code",
   "execution_count": 15,
   "metadata": {
    "collapsed": false
   },
   "outputs": [],
   "source": [
    "# Create a few new features using available ratios \n",
    "\n",
    "# Take the log of annual_inc\n",
    "loan_stats[\"annual_inc_log\"] = (loan_stats[\"annual_inc\"] ==  0).ifelse(0, loan_stats[\"annual_inc\"].log())"
   ]
  },
  {
   "cell_type": "code",
   "execution_count": 16,
   "metadata": {
    "collapsed": false
   },
   "outputs": [],
   "source": [
    "# Calculate the users' total available credit limit across all credit lines\n",
    "loan_stats[\"avail_credit\"] = (loan_stats[\"revol_util\"] == 0).ifelse(float('nan'), loan_stats[\"revol_bal\"]/loan_stats[\"revol_util\"])\n",
    "loan_stats[\"avail_credit_log\"] = (loan_stats[\"avail_credit\"] == 0).ifelse(0, loan_stats[\"avail_credit\"].log())"
   ]
  },
  {
   "cell_type": "code",
   "execution_count": 17,
   "metadata": {
    "collapsed": false
   },
   "outputs": [
    {
     "name": "stdout",
     "output_type": "stream",
     "text": [
      "Parse progress: |█████████████████████████████████████████████████████████████████████████████| 100%\n"
     ]
    },
    {
     "data": {
      "image/png": "[encoded data removed]",
      "text/plain": [
       "<matplotlib.figure.Figure at 0x17c3e5e10>"
      ]
     },
     "metadata": {},
     "output_type": "display_data"
    }
   ],
   "source": [
    "%matplotlib inline\n",
    "loan_stats[\"avail_credit_log\"].hist()"
   ]
  },
  {
   "cell_type": "code",
   "execution_count": 18,
   "metadata": {
    "collapsed": true
   },
   "outputs": [],
   "source": [
    "# Calculate the users' monthly debt vs monthly income and the increase in monthly debt with the new loan\n",
    "loan_stats[\"monthly_debt\"] = ((loan_stats[\"annual_inc\"]/12)*(loan_stats[\"dti\"]))\n",
    "loan_stats[\"monthly_inc\"] = loan_stats[\"annual_inc\"]/12\n",
    "loan_stats[\"new_monthly_debt\"] = loan_stats[\"monthly_debt\"] + loan_stats[\"installment\"]"
   ]
  },
  {
   "cell_type": "code",
   "execution_count": 19,
   "metadata": {
    "collapsed": true
   },
   "outputs": [],
   "source": [
    "# Calculate the new debt to income ratio with the new debt, as well as the change in the dti ratio\n",
    "loan_stats[\"dti2\"] = loan_stats[\"new_monthly_debt\"]/loan_stats[\"monthly_inc\"]\n",
    "loan_stats[\"dti_delta\"] = loan_stats[\"dti2\"] - loan_stats[\"dti\"]"
   ]
  },
  {
   "cell_type": "code",
   "execution_count": 20,
   "metadata": {
    "collapsed": false
   },
   "outputs": [],
   "source": [
    "# Calculate ratio of available credit to income\n",
    "loan_stats[\"avail_credit_util\"] = loan_stats[\"avail_credit\"]/loan_stats[\"annual_inc\"]\n",
    "loan_stats[\"avail_credit_util_log\"] = (loan_stats[\"avail_credit_util\"] == 0).ifelse(0,\n",
    "                                                                        loan_stats[\"avail_credit_util\"].log())"
   ]
  },
  {
   "cell_type": "code",
   "execution_count": 21,
   "metadata": {
    "collapsed": false
   },
   "outputs": [],
   "source": [
    "# Find out how many loans are bad in each year in the dataset\n",
    "loan_stats = loan_stats[~(loan_stats[\"member_id\"].isna()),:]\n",
    "loan_stats[\"issue_d_year\"] = loan_stats[\"issue_d\"].year()\n",
    "\n",
    "grouped = loan_stats.group_by([\"issue_d_year\"])\n",
    "loans_by_year = grouped.count().sum(\"bad_loan\").get_frame()\n",
    "loans_by_year_df = loans_by_year.as_data_frame(use_pandas = True)"
   ]
  },
  {
   "cell_type": "code",
   "execution_count": 22,
   "metadata": {
    "collapsed": false
   },
   "outputs": [],
   "source": [
    "# Do a test-train split (80-20)\n",
    "s = loan_stats[\"int_rate\"].runif()\n",
    "train = loan_stats[s <= 0.80]\n",
    "valid  = loan_stats[s > 0.80]"
   ]
  },
  {
   "cell_type": "code",
   "execution_count": 23,
   "metadata": {
    "collapsed": true
   },
   "outputs": [],
   "source": [
    "# Define your response and predictor variables\n",
    "myY = \"bad_loan\"\n",
    "myX = [\"term\",\"home_ownership\", \"verification_status\",\n",
    "         \"purpose\",\"loan_amnt\", \"emp_length\", \"annual_inc\",\n",
    "         \"dti\", \"delinq_2yrs\",\"inq_last_6mths\", \"mths_since_last_delinq\",\n",
    "         \"mths_since_last_record\", \"collections_12_mths_ex_med\", \n",
    "         \"mths_since_last_major_derog\", \"open_acc\", \"pub_rec\", \"revol_bal\",\n",
    "         \"revol_util\",\"total_acc\", \"credit_length_in_years\", \n",
    "         \"avail_credit\", \"avail_credit_log\", \"monthly_debt\", \"monthly_inc\", \n",
    "         \"new_monthly_debt\", \"dti2\", \"dti_delta\", \"annual_inc_log\",\n",
    "         \"avail_credit_util\", \"avail_credit_util_log\"]"
   ]
  },
  {
   "cell_type": "code",
   "execution_count": 24,
   "metadata": {
    "collapsed": false
   },
   "outputs": [
    {
     "name": "stdout",
     "output_type": "stream",
     "text": [
      "gbm Model Build progress: |███████████████████████████████████████████████████████████████████| 100%\n"
     ]
    }
   ],
   "source": [
    "# Set parameters for GBM model \n",
    "from h2o.estimators.gbm import H2OGradientBoostingEstimator\n",
    "gbm_model = H2OGradientBoostingEstimator(model_id=\"GBM_BadLoan\",\n",
    "                                       score_each_iteration=True,\n",
    "                                       ntrees=100,\n",
    "                                       learn_rate=0.05)\n",
    "# Build GBM model\n",
    "gbm_model.train(x=myX, y=myY, training_frame=train, validation_frame=valid)"
   ]
  },
  {
   "cell_type": "code",
   "execution_count": 25,
   "metadata": {
    "collapsed": false
   },
   "outputs": [
    {
     "name": "stdout",
     "output_type": "stream",
     "text": [
      "glm Model Build progress: |███████████████████████████████████████████████████████████████████| 100%\n"
     ]
    }
   ],
   "source": [
    "# Set parameters for GLM model\n",
    "from h2o.estimators.glm import H2OGeneralizedLinearEstimator\n",
    "glm_model = H2OGeneralizedLinearEstimator(model_id = \"GLM_BadLoan\",\n",
    "                                         family = \"binomial\")\n",
    "# Build GLM model\n",
    "glm_model.train(x = myX, y=myY, training_frame=train, validation_frame= valid)"
   ]
  },
  {
   "cell_type": "code",
   "execution_count": 26,
   "metadata": {
    "collapsed": false
   },
   "outputs": [
    {
     "name": "stdout",
     "output_type": "stream",
     "text": [
      "GLM AUC on training = 0.701640253087 and GLM AUC on validation = 0.705176030224\n",
      "GBM AUC on training = 0.728786616918 and GBM AUC on validation = 0.717195284805\n"
     ]
    }
   ],
   "source": [
    "print \"GLM AUC on training = \" + str(glm_model.auc(train = True)) + \" and GLM AUC on validation = \" + str(glm_model.auc(valid = True))\n",
    "\n",
    "print \"GBM AUC on training = \" + str(gbm_model.auc(train = True)) + \" and GBM AUC on validation = \" + str(gbm_model.auc(valid = True))"
   ]
  },
  {
   "cell_type": "code",
   "execution_count": 27,
   "metadata": {
    "collapsed": false
   },
   "outputs": [
    {
     "data": {
      "image/png": "[encoded data removed]",
      "text/plain": [
       "<matplotlib.figure.Figure at 0x1914bbed0>"
      ]
     },
     "metadata": {},
     "output_type": "display_data"
    }
   ],
   "source": [
    "# GBM scoring history plot\n",
    "gbm_model.plot()"
   ]
  },
  {
   "cell_type": "code",
   "execution_count": 28,
   "metadata": {
    "collapsed": false
   },
   "outputs": [
    {
     "data": {
      "image/png": "[encoded data removed]",
      "text/plain": [
       "<matplotlib.figure.Figure at 0x17c3e5bd0>"
      ]
     },
     "metadata": {},
     "output_type": "display_data"
    }
   ],
   "source": [
    "# GLM variable coefficients plot\n",
    "glm_model.std_coef_plot()"
   ]
  },
  {
   "cell_type": "code",
   "execution_count": 29,
   "metadata": {
    "collapsed": false
   },
   "outputs": [
    {
     "data": {
      "image/png": "[encoded data removed]",
      "text/plain": [
       "<matplotlib.figure.Figure at 0x1aa1f3d90>"
      ]
     },
     "metadata": {},
     "output_type": "display_data"
    }
   ],
   "source": [
    "# GLM variable coefficients plot\n",
    "gbm_model.varimp_plot()"
   ]
  },
  {
   "cell_type": "code",
   "execution_count": 30,
   "metadata": {
    "collapsed": false
   },
   "outputs": [
    {
     "name": "stdout",
     "output_type": "stream",
     "text": [
      "Confusion Matrix (Act/Pred) for max f1 @ threshold = 0.220296160296: \n"
     ]
    },
    {
     "data": {
      "text/html": [
       "<div style=\"overflow:auto\"><table style=\"width:50%\"><tr><td><b></b></td>\n",
       "<td><b>0</b></td>\n",
       "<td><b>1</b></td>\n",
       "<td><b>Error</b></td>\n",
       "<td><b>Rate</b></td></tr>\n",
       "<tr><td>0</td>\n",
       "<td>19153.0</td>\n",
       "<td>7253.0</td>\n",
       "<td>0.2747</td>\n",
       "<td> (7253.0/26406.0)</td></tr>\n",
       "<tr><td>1</td>\n",
       "<td>2746.0</td>\n",
       "<td>3669.0</td>\n",
       "<td>0.4281</td>\n",
       "<td> (2746.0/6415.0)</td></tr>\n",
       "<tr><td>Total</td>\n",
       "<td>21899.0</td>\n",
       "<td>10922.0</td>\n",
       "<td>0.3047</td>\n",
       "<td> (9999.0/32821.0)</td></tr></table></div>"
      ],
      "text/plain": [
       "       0      1      Error    Rate\n",
       "-----  -----  -----  -------  ----------------\n",
       "0      19153  7253   0.2747   (7253.0/26406.0)\n",
       "1      2746   3669   0.4281   (2746.0/6415.0)\n",
       "Total  21899  10922  0.3047   (9999.0/32821.0)"
      ]
     },
     "metadata": {},
     "output_type": "display_data"
    },
    {
     "name": "stdout",
     "output_type": "stream",
     "text": [
      "\n"
     ]
    }
   ],
   "source": [
    "# GLM confusion matrix\n",
    "print(glm_model.confusion_matrix(valid = True))"
   ]
  },
  {
   "cell_type": "code",
   "execution_count": 31,
   "metadata": {
    "collapsed": false
   },
   "outputs": [
    {
     "name": "stdout",
     "output_type": "stream",
     "text": [
      "Confusion Matrix (Act/Pred) for max f1 @ threshold = 0.209167555225: \n"
     ]
    },
    {
     "data": {
      "text/html": [
       "<div style=\"overflow:auto\"><table style=\"width:50%\"><tr><td><b></b></td>\n",
       "<td><b>0</b></td>\n",
       "<td><b>1</b></td>\n",
       "<td><b>Error</b></td>\n",
       "<td><b>Rate</b></td></tr>\n",
       "<tr><td>0</td>\n",
       "<td>18972.0</td>\n",
       "<td>7434.0</td>\n",
       "<td>0.2815</td>\n",
       "<td> (7434.0/26406.0)</td></tr>\n",
       "<tr><td>1</td>\n",
       "<td>2624.0</td>\n",
       "<td>3791.0</td>\n",
       "<td>0.409</td>\n",
       "<td> (2624.0/6415.0)</td></tr>\n",
       "<tr><td>Total</td>\n",
       "<td>21596.0</td>\n",
       "<td>11225.0</td>\n",
       "<td>0.3065</td>\n",
       "<td> (10058.0/32821.0)</td></tr></table></div>"
      ],
      "text/plain": [
       "       0      1      Error    Rate\n",
       "-----  -----  -----  -------  -----------------\n",
       "0      18972  7434   0.2815   (7434.0/26406.0)\n",
       "1      2624   3791   0.409    (2624.0/6415.0)\n",
       "Total  21596  11225  0.3065   (10058.0/32821.0)"
      ]
     },
     "metadata": {},
     "output_type": "display_data"
    },
    {
     "name": "stdout",
     "output_type": "stream",
     "text": [
      "\n"
     ]
    }
   ],
   "source": [
    "# GBM confusion matrix\n",
    "print(gbm_model.confusion_matrix(valid = True))"
   ]
  },
  {
   "cell_type": "code",
   "execution_count": 32,
   "metadata": {
    "collapsed": false
   },
   "outputs": [
    {
     "name": "stdout",
     "output_type": "stream",
     "text": [
      "gbm prediction progress: |████████████████████████████████████████████████████████████████████| 100%\n",
      "glm prediction progress: |████████████████████████████████████████████████████████████████████| 100%\n"
     ]
    }
   ],
   "source": [
    "# Score the entire data set using the model\n",
    "pred_gbm = gbm_model.predict(valid)\n",
    "pred_glm = glm_model.predict(valid)"
   ]
  },
  {
   "cell_type": "code",
   "execution_count": 33,
   "metadata": {
    "collapsed": true
   },
   "outputs": [],
   "source": [
    "# Calculate the total amount of money earned or lost per loan\n",
    "valid[\"expected_earned\"] = valid[\"term\"] * valid[\"installment\"] - valid[\"loan_amnt\"]\n",
    "valid[\"earned\"] = valid[\"total_pymnt\"] - valid[\"loan_amnt\"]"
   ]
  },
  {
   "cell_type": "code",
   "execution_count": 34,
   "metadata": {
    "collapsed": false
   },
   "outputs": [
    {
     "name": "stdout",
     "output_type": "stream",
     "text": [
      "Total amount of profit still earned using the model : $26,594,134\n",
      "Total amount of profit forfeitted using the model : $18,042,799\n",
      "Total amount of loss that could have been prevented : $31,720,267\n",
      "Total amount of loss that still would've accrued : $17,867,783\n"
     ]
    }
   ],
   "source": [
    "# Calculate how much money will be lost to false negative, vs how much will be saved due to true positives\n",
    "valid[\"pred\"] = pred_gbm[\"predict\"]\n",
    "\n",
    "grouped = valid.group_by([\"bad_loan\",\"pred\"])\n",
    "net = grouped.sum(col = \"earned\").get_frame()\n",
    "\n",
    "n1 = net[(net[\"bad_loan\"] == \"0\") & (net[\"pred\"] == \"0\")][\"sum_earned\"].round(digits = 0).max()\n",
    "n2 = net[(net[\"bad_loan\"] == \"0\") & (net[\"pred\"] == \"1\")][\"sum_earned\"].round(digits = 0).max()\n",
    "n3 = (-1)*net[(net[\"bad_loan\"] == \"1\") & (net[\"pred\"] == \"1\")][\"sum_earned\"].round(digits = 0).max()\n",
    "n4 = (-1)*net[(net[\"bad_loan\"] == \"1\") & (net[\"pred\"] == \"0\")][\"sum_earned\"].round(digits = 0).max()\n",
    "\n",
    "# Calculate the amount of earned\n",
    "print \"Total amount of profit still earned using the model : %s\" %'${:0,.0f}'.format(n1)\n",
    "print \"Total amount of profit forfeitted using the model : %s\" %'${:0,.0f}'.format(n2)\n",
    "print \"Total amount of loss that could have been prevented : %s\" %'${:0,.0f}'.format(n3)\n",
    "print \"Total amount of loss that still would've accrued : %s\" %'${:0,.0f}'.format(n4)"
   ]
  },
  {
   "cell_type": "code",
   "execution_count": 35,
   "metadata": {
    "collapsed": false
   },
   "outputs": [
    {
     "name": "stdout",
     "output_type": "stream",
     "text": [
      "H2O session _sid_8fbc closed.\n"
     ]
    }
   ],
   "source": [
    "h2o.shutdown()"
   ]
  },
  {
   "cell_type": "code",
   "execution_count": null,
   "metadata": {
    "collapsed": true
   },
   "outputs": [],
   "source": []
  }
 ],
 "metadata": {
  "anaconda-cloud": {},
  "kernelspec": {
   "display_name": "Python [Root]",
   "language": "python",
   "name": "Python [Root]"
  },
  "language_info": {
   "codemirror_mode": {
    "name": "ipython",
    "version": 2
   },
   "file_extension": ".py",
   "mimetype": "text/x-python",
   "name": "python",
   "nbconvert_exporter": "python",
   "pygments_lexer": "ipython2",
   "version": "2.7.12"
  }
 },
 "nbformat": 4,
 "nbformat_minor": 0
}
