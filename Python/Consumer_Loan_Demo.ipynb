{
 "cells": [
  {
   "cell_type": "code",
   "execution_count": null,
   "metadata": {
    "collapsed": true
   },
   "outputs": [],
   "source": [
    "# Import necessary packages\n",
    "import h2o\n",
    "from h2o.estimators.gbm import H2OGradientBoostingEstimator\n",
    "from h2o.estimators.glm import H2OGeneralizedLinearEstimator"
   ]
  },
  {
   "cell_type": "code",
   "execution_count": null,
   "metadata": {
    "collapsed": false
   },
   "outputs": [],
   "source": [
    "# Initialize instance of H2O\n",
    "h2o.init(nthreads = -1)"
   ]
  },
  {
   "cell_type": "code",
   "execution_count": null,
   "metadata": {
    "collapsed": false
   },
   "outputs": [],
   "source": [
    "#Set file path\n",
    "path = \"/Volumes/H2OTour/Datasets/LoanStats/\""
   ]
  },
  {
   "cell_type": "code",
   "execution_count": null,
   "metadata": {
    "collapsed": true
   },
   "outputs": [],
   "source": [
    "#Parse with user imposed schema which changes the column types;\n",
    "#Change the column types in the parse setup\n",
    "#Change \"int_rate,\" \"revol_util,\" \"emp_length,\" \"verification_status\" to String instead of Enum\n",
    "col_types = {\"int_rate\": \"string\", \n",
    "             \"revol_util\":\"string\",\n",
    "             \"emp_length\":\"string\", \n",
    "             \"term\":\"string\",\n",
    "             \"mths_since_last_delinq\":\"numeric\",\n",
    "             \"mths_since_last_record\":\"numeric\", \n",
    "             \"mths_since_last_major_derog\":\"numeric\"}"
   ]
  },
  {
   "cell_type": "code",
   "execution_count": null,
   "metadata": {
    "collapsed": false
   },
   "outputs": [],
   "source": [
    "#Import data and set column types to those specified above\n",
    "loan_stats = h2o.import_file(path = path, col_types = col_types)"
   ]
  },
  {
   "cell_type": "code",
   "execution_count": null,
   "metadata": {
    "collapsed": false,
    "scrolled": true
   },
   "outputs": [],
   "source": [
    "# Look at the levels int he response column, \"loan_status\"\n",
    "# Hint: Use .table() function on the response column\n",
    "loan_stats[\"loan_status\"].table()"
   ]
  },
  {
   "cell_type": "code",
   "execution_count": null,
   "metadata": {
    "collapsed": false
   },
   "outputs": [],
   "source": [
    "# Drop all loans that are still in progess and therefore cannot be deemed good/bad loans\n",
    "# Hint: \"Current\", \"In Grace Period\", \"Late (16-30 days)\", \"Late (31-120 days)\" are ongoing loans\n",
    "loan_stats = loan_stats[~loan_stats[\"loan_status\"].isin([\"Current\", \"In Grace Period\", \"Late (16-30 days)\", \n",
    "                                                         \"Late (31-120 days)\"]), :]"
   ]
  },
  {
   "cell_type": "code",
   "execution_count": null,
   "metadata": {
    "collapsed": true
   },
   "outputs": [],
   "source": [
    "# Bin the response variable to good/bad oans only, use your best judgement for what qualifies as a good/bad loan\n",
    "# Create a new column called \"bad_loan\" which should be a binary variable\n",
    "# Hint: You can turn the bad_loan columm into a factor using .asfactor()\n",
    "\n",
    "loan_stats[\"bad_loan\"] = ~(loan_stats[\"loan_status\"] == \"Fully Paid\")\n",
    "loan_stats[\"bad_loan\"] = loan_stats[\"bad_loan\"].asfactor()"
   ]
  },
  {
   "cell_type": "code",
   "execution_count": null,
   "metadata": {
    "collapsed": false
   },
   "outputs": [],
   "source": [
    "## String munging to clean string columns before converting to numeric\n",
    "## Hint: Columns that need munging includes \"int_rate\", \"revol_util\", \"emp_length\", \"term\"\n",
    "\n",
    "## Example for int_rate using h2o.strsplit, trim, as.numeric\n",
    "loan_stats[\"int_rate\"] = loan_stats[\"int_rate\"].gsub(pattern = \"%\", replacement = \"\") # strip %\n",
    "loan_stats[ \"int_rate\"] = loan_stats[\"int_rate\"].trim() # trim ws\n",
    "loan_stats[\"int_rate\"] = loan_stats[\"int_rate\"].asnumeric() #change to a numeric \n",
    "loan_stats[\"int_rate\"].show()"
   ]
  },
  {
   "cell_type": "code",
   "execution_count": null,
   "metadata": {
    "collapsed": false
   },
   "outputs": [],
   "source": [
    "# Now try for revol_util yourself\n",
    "loan_stats[\"revol_util\"] = loan_stats[\"revol_util\"].gsub(pattern = \"%\", replacement = \"\")\n",
    "loan_stats[\"revol_util\"] = loan_stats[\"revol_util\"].trim() \n",
    "loan_stats[\"revol_util\"] = loan_stats[\"revol_util\"].asnumeric()\n",
    "loan_stats[\"revol_util\"] = loan_stats[\"revol_util\"]/100\n",
    "loan_stats[\"revol_util\"].show()"
   ]
  },
  {
   "cell_type": "code",
   "execution_count": null,
   "metadata": {
    "collapsed": false
   },
   "outputs": [],
   "source": [
    "# Now we're going to clean up emp_length\n",
    "# Use gsub to remove \" year\" and \" years\" also translate n/a to \"\" \n",
    "loan_stats [\"emp_length\"] = loan_stats[\"emp_length\"].gsub(pattern = \"([ ]*+[a-zA-Z].*)|(n/a)\", \n",
    "                                              replacement = \"\")\n",
    "# Use trim to remove any trailing spaces \n",
    "loan_stats [\"emp_length\"] = loan_stats[\"emp_length\"].trim()\n",
    "# Use sub to convert < 1 to 0 years and do the same for 10 + to 10\n",
    "# Hint: Be mindful of spaces between characters\n",
    "loan_stats [\"emp_length\"] = loan_stats[\"emp_length\"].gsub(pattern = \"< 1\", replacement = \"0\")\n",
    "loan_stats [\"emp_length\"] = loan_stats[\"emp_length\"].gsub(pattern = \"10\\\\+\", replacement = \"10\")\n",
    "loan_stats [\"emp_length\"] = loan_stats[\"emp_length\"].asnumeric()\n",
    "loan_stats [\"emp_length\"].show()"
   ]
  },
  {
   "cell_type": "code",
   "execution_count": null,
   "metadata": {
    "collapsed": true
   },
   "outputs": [],
   "source": [
    "# Convert the term column to a numeric from a string \n",
    "loan_stats[\"term\"] = loan_stats[\"term\"].gsub(pattern = \" months\", replacement = \"\")\n",
    "loan_stats[\"term\"] = loan_stats[\"term\"].trim()\n",
    "loan_stats[\"term\"] = loan_stats[\"term\"].asnumeric()"
   ]
  },
  {
   "cell_type": "code",
   "execution_count": null,
   "metadata": {
    "collapsed": true
   },
   "outputs": [],
   "source": [
    "# Create a new column called \"credit_length_in_years\" by subtracting the values in \"earliest_cr_line\" from \"issue_d\"\n",
    "# Hint: Convert earliest_cr_line and issue_d using .year() function before completing calculation\n",
    "loan_stats[\"credit_length_in_years\"] = loan_stats[\"issue_d\"].year() - loan_stats[\"earliest_cr_line\"].year()"
   ]
  },
  {
   "cell_type": "code",
   "execution_count": null,
   "metadata": {
    "collapsed": false
   },
   "outputs": [],
   "source": [
    "# Use the sub function to create two levels from the verification_status column. \n",
    "#Ie \"verified\" and \"not verified\"\n",
    "loan_stats[\"verification_status\"] = (loan_stats[\"verification_status\"] == \"not verified\").ifelse(\"not verified\", \n",
    "                                                                                              \"verified\")\n",
    "loan_stats[\"verification_status\"].table()"
   ]
  },
  {
   "cell_type": "code",
   "execution_count": null,
   "metadata": {
    "collapsed": false
   },
   "outputs": [],
   "source": [
    "# Create a few new features using available ratios \n",
    "\n",
    "# Take the log of annual_inc\n",
    "loan_stats[\"annual_inc_log\"] = (loan_stats[\"annual_inc\"] ==  0).ifelse(0, loan_stats[\"annual_inc\"].log())"
   ]
  },
  {
   "cell_type": "code",
   "execution_count": null,
   "metadata": {
    "collapsed": false
   },
   "outputs": [],
   "source": [
    "# Calculate the users' total available credit limit across all credit lines\n",
    "loan_stats[\"avail_credit\"] = (loan_stats[\"revol_util\"] == 0).ifelse(float('nan'), loan_stats[\"revol_bal\"]/loan_stats[\"revol_util\"])\n",
    "loan_stats[\"avail_credit_log\"] = (loan_stats[\"avail_credit\"] == 0).ifelse(0, loan_stats[\"avail_credit\"].log())"
   ]
  },
  {
   "cell_type": "code",
   "execution_count": null,
   "metadata": {
    "collapsed": false
   },
   "outputs": [],
   "source": [
    "%matplotlib inline\n",
    "loan_stats[\"avail_credit_log\"].hist()"
   ]
  },
  {
   "cell_type": "code",
   "execution_count": null,
   "metadata": {
    "collapsed": true
   },
   "outputs": [],
   "source": [
    "# Calculate the users' monthly debt vs monthly income and the increase in monthly debt with the new loan\n",
    "loan_stats[\"monthly_debt\"] = ((loan_stats[\"annual_inc\"]/12)*(loan_stats[\"dti\"]))\n",
    "loan_stats[\"monthly_inc\"] = loan_stats[\"annual_inc\"]/12\n",
    "loan_stats[\"new_monthly_debt\"] = loan_stats[\"monthly_debt\"] + loan_stats[\"installment\"]"
   ]
  },
  {
   "cell_type": "code",
   "execution_count": null,
   "metadata": {
    "collapsed": true
   },
   "outputs": [],
   "source": [
    "# Calculate the new debt to income ratio with the new debt, as well as the change in the dti ratio\n",
    "loan_stats[\"dti2\"] = loan_stats[\"new_monthly_debt\"]/loan_stats[\"monthly_inc\"]\n",
    "loan_stats[\"dti_delta\"] = loan_stats[\"dti2\"] - loan_stats[\"dti\"]"
   ]
  },
  {
   "cell_type": "code",
   "execution_count": null,
   "metadata": {
    "collapsed": false
   },
   "outputs": [],
   "source": [
    "# Calculate ratio of available credit to income\n",
    "loan_stats[\"avail_credit_util\"] = loan_stats[\"avail_credit\"]/loan_stats[\"annual_inc\"]\n",
    "loan_stats[\"avail_credit_util_log\"] = (loan_stats[\"avail_credit_util\"] == 0).ifelse(0,\n",
    "                                                                        loan_stats[\"avail_credit_util\"].log())"
   ]
  },
  {
   "cell_type": "code",
   "execution_count": null,
   "metadata": {
    "collapsed": false
   },
   "outputs": [],
   "source": [
    "# Find out how many loans are bad in each year in the dataset\n",
    "loan_stats = loan_stats[~(loan_stats[\"member_id\"].isna()),:]\n",
    "loan_stats[\"issue_d_year\"] = loan_stats[\"issue_d\"].year()\n",
    "\n",
    "grouped = loan_stats.group_by([\"issue_d_year\"])\n",
    "loans_by_year = grouped.count().sum(\"bad_loan\").get_frame()\n",
    "loans_by_year_df = loans_by_year.as_data_frame(use_pandas = True)"
   ]
  },
  {
   "cell_type": "code",
   "execution_count": null,
   "metadata": {
    "collapsed": false
   },
   "outputs": [],
   "source": [
    "# Plot number of actual and predicted bad loans\n",
    "import matplotlib.pyplot as plt\n",
    "\n",
    "fig, ax = plt.subplots()\n",
    "width = 0.35 \n",
    "rects1 = ax.bar(loans_by_year_df[\"issue_d_year\"] + width, loans_by_year_df[\"nrow_id\"], width, color='b')\n",
    "rects2 = ax.bar(loans_by_year_df[\"issue_d_year\"], loans_by_year_df[\"sum_bad_loan\"], width, color='r')\n",
    "\n",
    "ax.set_ylabel('Number of Bad Loans')\n",
    "ax.set_xlabel('Year')\n",
    "\n",
    "ax.set_title('Bad Loans by Year')\n",
    "ax.set_xticks(loans_by_year_df[\"issue_d_year\"] + width)\n",
    "ax.set_xticklabels(loans_by_year_df[\"issue_d_year\"])\n",
    "\n",
    "ax.legend((rects1[0], rects2[0]), ('Total Loans', 'Total Bad Loans'))"
   ]
  },
  {
   "cell_type": "code",
   "execution_count": null,
   "metadata": {
    "collapsed": false
   },
   "outputs": [],
   "source": [
    "# Do a test-train split (80-20)\n",
    "s = loan_stats[\"int_rate\"].runif()\n",
    "train = loan_stats[s <= 0.80]\n",
    "valid  = loan_stats[s > 0.80]"
   ]
  },
  {
   "cell_type": "code",
   "execution_count": null,
   "metadata": {
    "collapsed": true
   },
   "outputs": [],
   "source": [
    "# Define your response and predictor variables\n",
    "myY = \"bad_loan\"\n",
    "myX = [\"term\",\"home_ownership\", \"verification_status\",\n",
    "         \"purpose\",\"loan_amnt\", \"emp_length\", \"annual_inc\",\n",
    "         \"dti\", \"delinq_2yrs\",\"inq_last_6mths\", \"mths_since_last_delinq\",\n",
    "         \"mths_since_last_record\", \"collections_12_mths_ex_med\", \n",
    "         \"mths_since_last_major_derog\", \"open_acc\", \"pub_rec\", \"revol_bal\",\n",
    "         \"revol_util\",\"total_acc\", \"credit_length_in_years\", \n",
    "         \"avail_credit\", \"avail_credit_log\", \"monthly_debt\", \"monthly_inc\", \n",
    "         \"new_monthly_debt\", \"dti2\", \"dti_delta\", \"annual_inc_log\",\n",
    "         \"avail_credit_util\", \"avail_credit_util_log\"]"
   ]
  },
  {
   "cell_type": "code",
   "execution_count": null,
   "metadata": {
    "collapsed": false
   },
   "outputs": [],
   "source": [
    "# Set parameters for GBM model \n",
    "from h2o.estimators.gbm import H2OGradientBoostingEstimator\n",
    "gbm_model = H2OGradientBoostingEstimator(model_id=\"GBM_BadLoan\",\n",
    "                                       score_each_iteration=True,\n",
    "                                       ntrees=100,\n",
    "                                       learn_rate=0.05)\n",
    "# Build GBM model\n",
    "gbm_model.train(x=myX, y=myY, training_frame=train, validation_frame=valid)"
   ]
  },
  {
   "cell_type": "code",
   "execution_count": null,
   "metadata": {
    "collapsed": false
   },
   "outputs": [],
   "source": [
    "# Set parameters for GLM model\n",
    "from h2o.estimators.glm import H2OGeneralizedLinearEstimator\n",
    "glm_model = H2OGeneralizedLinearEstimator(model_id = \"GLM_BadLoan\",\n",
    "                                         family = \"binomial\")\n",
    "# Build GLM model\n",
    "glm_model.train(x = myX, y=myY, training_frame=train, validation_frame= valid)"
   ]
  },
  {
   "cell_type": "code",
   "execution_count": null,
   "metadata": {
    "collapsed": false
   },
   "outputs": [],
   "source": [
    "print \"GLM AUC on training = \" + str(glm_model.auc(train = True)) + \" and GLM AUC on validation = \" + str(glm_model.auc(valid = True))\n",
    "\n",
    "print \"GBM AUC on training = \" + str(gbm_model.auc(train = True)) + \" and GBM AUC on validation = \" + str(gbm_model.auc(valid = True))"
   ]
  },
  {
   "cell_type": "code",
   "execution_count": null,
   "metadata": {
    "collapsed": false
   },
   "outputs": [],
   "source": [
    "# GBM scoring history plot\n",
    "gbm_model.plot()"
   ]
  },
  {
   "cell_type": "code",
   "execution_count": null,
   "metadata": {
    "collapsed": false
   },
   "outputs": [],
   "source": [
    "# GLM variable coefficients plot\n",
    "glm_model.std_coef_plot()"
   ]
  },
  {
   "cell_type": "code",
   "execution_count": null,
   "metadata": {
    "collapsed": false
   },
   "outputs": [],
   "source": [
    "# GLM variable coefficients plot\n",
    "gbm_model.varimp_plot()"
   ]
  },
  {
   "cell_type": "code",
   "execution_count": null,
   "metadata": {
    "collapsed": false
   },
   "outputs": [],
   "source": [
    "# GLM confusion matrix\n",
    "print(glm_model.confusion_matrix(valid = True))"
   ]
  },
  {
   "cell_type": "code",
   "execution_count": null,
   "metadata": {
    "collapsed": false
   },
   "outputs": [],
   "source": [
    "# GBM confusion matrix\n",
    "print(gbm_model.confusion_matrix(valid = True))"
   ]
  },
  {
   "cell_type": "code",
   "execution_count": null,
   "metadata": {
    "collapsed": false
   },
   "outputs": [],
   "source": [
    "# Score the entire data set using the model\n",
    "pred_gbm = gbm_model.predict(valid)\n",
    "pred_glm = glm_model.predict(valid)"
   ]
  },
  {
   "cell_type": "code",
   "execution_count": null,
   "metadata": {
    "collapsed": true
   },
   "outputs": [],
   "source": [
    "# Calculate the total amount of money earned or lost per loan\n",
    "valid[\"expected_earned\"] = valid[\"term\"] * valid[\"installment\"] - valid[\"loan_amnt\"]\n",
    "valid[\"earned\"] = valid[\"total_pymnt\"] - valid[\"loan_amnt\"]"
   ]
  },
  {
   "cell_type": "code",
   "execution_count": null,
   "metadata": {
    "collapsed": false
   },
   "outputs": [],
   "source": [
    "# Calculate how much money will be lost to false negative, vs how much will be saved due to true positives\n",
    "valid[\"pred\"] = pred_gbm[\"predict\"]\n",
    "\n",
    "grouped = valid.group_by([\"bad_loan\",\"pred\"])\n",
    "net = grouped.sum(col = \"earned\").get_frame()\n",
    "\n",
    "n1 = net[(net[\"bad_loan\"] == \"0\") & (net[\"pred\"] == \"0\")][\"sum_earned\"].round(digits = 0).max()\n",
    "n2 = net[(net[\"bad_loan\"] == \"0\") & (net[\"pred\"] == \"1\")][\"sum_earned\"].round(digits = 0).max()\n",
    "n3 = (-1)*net[(net[\"bad_loan\"] == \"1\") & (net[\"pred\"] == \"1\")][\"sum_earned\"].round(digits = 0).max()\n",
    "n4 = (-1)*net[(net[\"bad_loan\"] == \"1\") & (net[\"pred\"] == \"0\")][\"sum_earned\"].round(digits = 0).max()\n",
    "\n",
    "# Calculate the amount of earned\n",
    "print \"Total amount of profit still earned using the model : %s\" %'${:0,.0f}'.format(n1)\n",
    "print \"Total amount of profit forfeitted using the model : %s\" %'${:0,.0f}'.format(n2)\n",
    "print \"Total amount of loss that could have been prevented : %s\" %'${:0,.0f}'.format(n3)\n",
    "print \"Total amount of loss that still would've accrued : %s\" %'${:0,.0f}'.format(n4)"
   ]
  },
  {
   "cell_type": "code",
   "execution_count": null,
   "metadata": {
    "collapsed": false
   },
   "outputs": [],
   "source": [
    "h2o.shutdown()"
   ]
  }
 ],
 "metadata": {
  "anaconda-cloud": {},
  "kernelspec": {
   "display_name": "Python 2",
   "language": "python",
   "name": "python2"
  },
  "language_info": {
   "codemirror_mode": {
    "name": "ipython",
    "version": 2
   },
   "file_extension": ".py",
   "mimetype": "text/x-python",
   "name": "python",
   "nbconvert_exporter": "python",
   "pygments_lexer": "ipython2",
   "version": "2.7.10"
  }
 },
 "nbformat": 4,
 "nbformat_minor": 0
}
